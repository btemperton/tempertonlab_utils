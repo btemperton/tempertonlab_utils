{
  "nbformat": 4,
  "nbformat_minor": 0,
  "metadata": {
    "colab": {
      "name": "EGTA_EDTA_conundrum.ipynb",
      "provenance": [],
      "collapsed_sections": [],
      "include_colab_link": true
    },
    "kernelspec": {
      "name": "python3",
      "display_name": "Python 3"
    }
  },
  "cells": [
    {
      "cell_type": "markdown",
      "metadata": {
        "id": "view-in-github",
        "colab_type": "text"
      },
      "source": [
        "<a href=\"https://colab.research.google.com/github/btemperton/tempertonlab_utils/blob/master/EGTA_EDTA_conundrum.ipynb\" target=\"_parent\"><img src=\"https://colab.research.google.com/assets/colab-badge.svg\" alt=\"Open In Colab\"/></a>"
      ]
    },
    {
      "cell_type": "markdown",
      "metadata": {
        "id": "HZoGThkPvVzp",
        "colab_type": "text"
      },
      "source": [
        "During our viral DNA extraction, we concentrate our viruses down, then add DNAse to remove any DNA that isn't within a viral capsid. This removes cellular carryover and free DNA from the 'virome'\n",
        "\n",
        "Before breaking open the capsids, we need to neutralise the DNAse (or it'll just chew up the viral DNA). To do this, we add EDTA and EGTA, which soak up magnesium and calcium ions, respectively, that DNAse requires to function.\n",
        "\n",
        "we need to add EDTA and EGTA at 100 mM final concentration to a known volume of viruses. Our stock concentrations of EDTA and EGTA are ~ 1-2 M.\n",
        "\n",
        "\n",
        "We need to work out how much volume of EDTA stock ($V_{1}$) and EGTA stock ($V_{2}$) we need to add to a set volume of liquid, $V_{init}$ in order to reach a molarity of 100 mM of each solution in the final volume\n",
        "\n",
        "The amount of stock volume you need to add to achieve a target concentration is:\n",
        "\n",
        "$$\n",
        "V_1 = \\frac{target\\ concentration\\ of\\ EDTA}{stock\\ concentration \\ of \\ EDTA} \\cdot final\\ volume\n",
        "$$\n",
        "\n",
        "Let $\\frac{target\\ concentration\\ of\\ EDTA}{stock\\ concentration \\ of \\ EDTA}$ be equal to a dilution constant, $d_{1}$\n",
        "\n",
        "Let $\\frac{target\\ concentration\\ of\\ EGTA}{stock\\ concentration \\ of \\ EGTA}$ be equal to a dilution constant, $d_{2}$\n",
        "\n",
        "The final volume of liquid is going to be\n",
        "\n",
        "$$\n",
        "V_1 + V_2 + V_{init}\n",
        "$$\n",
        "\n",
        "So the amount of EDTA stock we need to add is: \n",
        "\n",
        "$$\n",
        "V_{1} = d_{1} \\cdot (V_{1} + V_{2} + V_{init})\n",
        "$$\n",
        "\n",
        "and the amount of EGTA stock we need to add is:\n",
        "$$\n",
        "V_{2} = d_{2} \\cdot (V_{1} + V_{2} + V_{init})\n",
        "$$\n",
        "\n",
        "\n",
        "---\n",
        "\n",
        "_Thanks to Rob Beardmore for figuring this out_:\n",
        "\n",
        "We have three variables: $V_{1}$, $V_{2}$ and $V_{init}$.\n",
        "\n",
        "We have two constraints: $d_{1}$, $d_{2}$\n",
        "\n",
        "So we can set this up in matrix notation:\n",
        "\n",
        "$$\n",
        "\\begin{bmatrix}\n",
        "1-d_{1} & -d_{1} \\\\\n",
        "-d_{2} & 1-d_{2}\n",
        "\\end{bmatrix}\n",
        "\\begin{bmatrix}\n",
        "V_{1} \\\\\n",
        "V_{2}\n",
        "\\end{bmatrix} = V_{init}\\begin{bmatrix}\n",
        "d_{1} \\\\\n",
        "d_{2}\n",
        "\\end{bmatrix}\n",
        "$$\n",
        "\n",
        "or, \n",
        "$A * V = V_{init}*D$\n",
        "\n",
        "So:\n",
        "$V = A^{-1} * V_{init} * D$\n",
        "\n",
        "which we can solve using the `numpy` linear algebra module"
      ]
    },
    {
      "cell_type": "code",
      "metadata": {
        "id": "4uoX8UVYtSsE",
        "colab_type": "code",
        "colab": {
          "base_uri": "https://localhost:8080/",
          "height": 51
        },
        "outputId": "af763f22-f97d-4ceb-e06a-1590c5ed0601"
      },
      "source": [
        "import numpy as np\n",
        "\n",
        "def calculate_values(edta_stock, egta_stock, \n",
        "                     initial_volume, \n",
        "                     desired_conc_of_edta, \n",
        "                     desired_conc_of_egta):\n",
        "    \n",
        "    d_edta = desired_conc_of_edta / stock_conc_of_edta\n",
        "\n",
        "    desired_conc_of_egta = 100.0\n",
        "    d_egta = desired_conc_of_egta / stock_conc_of_egta\n",
        "\n",
        "    A = np.array([[(1-d_edta), (-d_edta)],\n",
        "              [-d_egta, (1-d_egta)]])\n",
        "\n",
        "    D = np.array([[d_edta],\n",
        "              [d_egta]])\n",
        "\n",
        "    V = np.matmul(np.linalg.inv(A), initial_volume*D)\n",
        "\n",
        "    print(f'You need to add {V[0][0]:.0f} µL of EDTA stock')\n",
        "    print(f'You need to add {V[1][0]:.0f} µL of EGTA stock')\n",
        "\n",
        "#@title ## Calculator:\n",
        "#@markdown ### Enter concentrations of EDTA and EGTA stocks (in mM):\n",
        "stock_conc_of_edta = 1390 #@param {type:\"number\"}\n",
        "stock_conc_of_egta = 990 #@param {type:\"number\"}\n",
        "#@markdown ### Enter initial volume of viral concentration (in µL):\n",
        "\n",
        "initial_volume = 750 #@param {type:\"number\"}\n",
        "\n",
        "#@markdown ### Enter desired final concentration of EDTA and EGTA (in mM)\n",
        "#@markdown ### (you should only change these for good reason)\n",
        "#@markdown ---\n",
        "\n",
        "desired_conc_of_edta = 100 #@param {type:\"number\"}\n",
        "desired_conc_of_egta = 100 #@param {type:\"number\"}\n",
        "#@markdown ---\n",
        "\n",
        "\n",
        "calculate_values(stock_conc_of_edta, \n",
        "                 stock_conc_of_egta, \n",
        "                 initial_volume,\n",
        "                 desired_conc_of_edta,\n",
        "                 desired_conc_of_egta)"
      ],
      "execution_count": 32,
      "outputs": [
        {
          "output_type": "stream",
          "text": [
            "You need to add 65 µL of EDTA stock\n",
            "You need to add 92 µL of EGTA stock\n"
          ],
          "name": "stdout"
        }
      ]
    },
    {
      "cell_type": "markdown",
      "metadata": {
        "id": "tqQ87XAKzVAo",
        "colab_type": "text"
      },
      "source": [
        "[link text](https://)"
      ]
    }
  ]
}